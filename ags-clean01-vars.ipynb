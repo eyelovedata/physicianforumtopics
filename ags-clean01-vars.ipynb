{
 "cells": [
  {
   "cell_type": "markdown",
   "metadata": {},
   "source": [
    "Clean up the database tables, create new variables as needed, rename variables as needed, text process user location, etc. "
   ]
  },
  {
   "cell_type": "code",
   "execution_count": 19,
   "metadata": {},
   "outputs": [],
   "source": [
    "from IPython.core.interactiveshell import InteractiveShell\n",
    "InteractiveShell.ast_node_interactivity = \"all\""
   ]
  },
  {
   "cell_type": "code",
   "execution_count": 1,
   "metadata": {},
   "outputs": [],
   "source": [
    "%load_ext sql\n",
    "%sql mysql://sywang@localhost/?charset=utf8mb4"
   ]
  },
  {
   "cell_type": "code",
   "execution_count": 2,
   "metadata": {},
   "outputs": [],
   "source": [
    "database = 'sywang_project'\n",
    "msgs_table = 'msgs'"
   ]
  },
  {
   "cell_type": "code",
   "execution_count": 3,
   "metadata": {},
   "outputs": [
    {
     "name": "stdout",
     "output_type": "stream",
     "text": [
      " * mysql://sywang@localhost/?charset=utf8mb4\n",
      "0 rows affected.\n",
      "76 rows affected.\n"
     ]
    },
    {
     "data": {
      "text/html": [
       "<table>\n",
       "    <tr>\n",
       "        <th>Tables_in_sywang_project</th>\n",
       "    </tr>\n",
       "    <tr>\n",
       "        <td>ags_cp</td>\n",
       "    </tr>\n",
       "    <tr>\n",
       "        <td>ags_freq</td>\n",
       "    </tr>\n",
       "    <tr>\n",
       "        <td>feat$1gram$msgs$message_id$16to16</td>\n",
       "    </tr>\n",
       "    <tr>\n",
       "        <td>feat$1gram$msgs$thread_id$16to16</td>\n",
       "    </tr>\n",
       "    <tr>\n",
       "        <td>feat$1gram$msgs$user_id$16to16</td>\n",
       "    </tr>\n",
       "    <tr>\n",
       "        <td>feat$1gram$msgs$user_id$16to16$0_01</td>\n",
       "    </tr>\n",
       "    <tr>\n",
       "        <td>feat$1gram$msgs$user_id$16to16$0_02</td>\n",
       "    </tr>\n",
       "    <tr>\n",
       "        <td>feat$1gram$msgs$user_id$16to16$0_03</td>\n",
       "    </tr>\n",
       "    <tr>\n",
       "        <td>feat$1gram$msgs$user_id$16to16$0_05</td>\n",
       "    </tr>\n",
       "    <tr>\n",
       "        <td>feat$1gram$msgs$user_id$16to16$0_1</td>\n",
       "    </tr>\n",
       "    <tr>\n",
       "        <td>feat$1gram$threadheads$thread_id$16to16</td>\n",
       "    </tr>\n",
       "    <tr>\n",
       "        <td>feat$1gram$threadheads$thread_id$16to16$0_0</td>\n",
       "    </tr>\n",
       "    <tr>\n",
       "        <td>feat$1gram$threadheads$thread_id$16to16$0_01</td>\n",
       "    </tr>\n",
       "    <tr>\n",
       "        <td>feat$1gram$threadheads$thread_id$16to16$0_02</td>\n",
       "    </tr>\n",
       "    <tr>\n",
       "        <td>feat$1to2gram$msgs$thread_id$16to16</td>\n",
       "    </tr>\n",
       "    <tr>\n",
       "        <td>feat$1to2gram$msgs$user_id$16to16</td>\n",
       "    </tr>\n",
       "    <tr>\n",
       "        <td>feat$1to2gram$msgs$user_id$16to16$0_02</td>\n",
       "    </tr>\n",
       "    <tr>\n",
       "        <td>feat$1to2gram$msgs$user_id$16to16$0_02$pmi5_0</td>\n",
       "    </tr>\n",
       "    <tr>\n",
       "        <td>feat$1to2gram$msgs$user_id$16to16$0_02$pmi6_0</td>\n",
       "    </tr>\n",
       "    <tr>\n",
       "        <td>feat$1to3gram$msgs$thread_id$16to16</td>\n",
       "    </tr>\n",
       "    <tr>\n",
       "        <td>feat$1to3gram$msgs$thread_id$16to16$0_02</td>\n",
       "    </tr>\n",
       "    <tr>\n",
       "        <td>feat$1to3gram$msgs$thread_id$16to16$0_02$pmi5_0</td>\n",
       "    </tr>\n",
       "    <tr>\n",
       "        <td>feat$1to3gram$msgs$user_id$16to16</td>\n",
       "    </tr>\n",
       "    <tr>\n",
       "        <td>feat$1to3gram$msgs$user_id$16to16$0_02</td>\n",
       "    </tr>\n",
       "    <tr>\n",
       "        <td>feat$1to3gram$msgs$user_id$16to16$0_02$pmi4_0</td>\n",
       "    </tr>\n",
       "    <tr>\n",
       "        <td>feat$1to3gram$msgs$user_id$16to16$0_02$pmi6_0</td>\n",
       "    </tr>\n",
       "    <tr>\n",
       "        <td>feat$1to3gram$threadheads$thread_id$16to16</td>\n",
       "    </tr>\n",
       "    <tr>\n",
       "        <td>feat$1to3gram$threadheads$thread_id$16to16$0_02</td>\n",
       "    </tr>\n",
       "    <tr>\n",
       "        <td>feat$1to3gram$threadheads$thread_id$16to16$0_02$pmi6_0</td>\n",
       "    </tr>\n",
       "    <tr>\n",
       "        <td>feat$2gram$msgs$thread_id$16to16</td>\n",
       "    </tr>\n",
       "    <tr>\n",
       "        <td>feat$2gram$msgs$user_id$16to16</td>\n",
       "    </tr>\n",
       "    <tr>\n",
       "        <td>feat$2gram$msgs$user_id$16to16$0_02</td>\n",
       "    </tr>\n",
       "    <tr>\n",
       "        <td>feat$2gram$msgs$user_id$16to16$0_02$pmi3_0</td>\n",
       "    </tr>\n",
       "    <tr>\n",
       "        <td>feat$2gram$msgs$user_id$16to16$0_02$pmi4_0</td>\n",
       "    </tr>\n",
       "    <tr>\n",
       "        <td>feat$2gram$msgs$user_id$16to16$0_02$pmi5_0</td>\n",
       "    </tr>\n",
       "    <tr>\n",
       "        <td>feat$2gram$msgs$user_id$16to16$0_02$pmi6_0</td>\n",
       "    </tr>\n",
       "    <tr>\n",
       "        <td>feat$2gram$threadheads$thread_id$16to16</td>\n",
       "    </tr>\n",
       "    <tr>\n",
       "        <td>feat$2gram$threadheads$thread_id$16to16$0_02</td>\n",
       "    </tr>\n",
       "    <tr>\n",
       "        <td>feat$2gram$threadheads$thread_id$16to16$0_02$pmi4_0</td>\n",
       "    </tr>\n",
       "    <tr>\n",
       "        <td>feat$2gram$threadheads$thread_id$16to16$0_02$pmi5_0</td>\n",
       "    </tr>\n",
       "    <tr>\n",
       "        <td>feat$2gram$threadheads$thread_id$16to16$0_02$pmi6_0</td>\n",
       "    </tr>\n",
       "    <tr>\n",
       "        <td>feat$2gram$threadheads$thread_id$16to16$pmi4_0</td>\n",
       "    </tr>\n",
       "    <tr>\n",
       "        <td>feat$3gram$msgs$thread_id$16to16</td>\n",
       "    </tr>\n",
       "    <tr>\n",
       "        <td>feat$3gram$msgs$user_id$16to16</td>\n",
       "    </tr>\n",
       "    <tr>\n",
       "        <td>feat$3gram$msgs$user_id$16to16$0_02</td>\n",
       "    </tr>\n",
       "    <tr>\n",
       "        <td>feat$3gram$msgs$user_id$16to16$0_02$pmi4_0</td>\n",
       "    </tr>\n",
       "    <tr>\n",
       "        <td>feat$3gram$msgs$user_id$16to16$0_02$pmi5_0</td>\n",
       "    </tr>\n",
       "    <tr>\n",
       "        <td>feat$3gram$msgs$user_id$16to16$0_02$pmi6_0</td>\n",
       "    </tr>\n",
       "    <tr>\n",
       "        <td>feat$3gram$threadheads$thread_id$16to16</td>\n",
       "    </tr>\n",
       "    <tr>\n",
       "        <td>feat$3gram$threadheads$thread_id$16to16$0_02</td>\n",
       "    </tr>\n",
       "    <tr>\n",
       "        <td>feat$3gram$threadheads$thread_id$16to16$0_02$pmi4_0</td>\n",
       "    </tr>\n",
       "    <tr>\n",
       "        <td>feat$3gram$threadheads$thread_id$16to16$0_02$pmi5_0</td>\n",
       "    </tr>\n",
       "    <tr>\n",
       "        <td>feat$3gram$threadheads$thread_id$16to16$0_02$pmi6_0</td>\n",
       "    </tr>\n",
       "    <tr>\n",
       "        <td>feat$3gram$threadheads$thread_id$16to16$pmi4_0</td>\n",
       "    </tr>\n",
       "    <tr>\n",
       "        <td>feat$cat_LIWC2015$msgs$user_id$1gra</td>\n",
       "    </tr>\n",
       "    <tr>\n",
       "        <td>feat$cat_LIWC2015$threadheads$thread_id$1gra</td>\n",
       "    </tr>\n",
       "    <tr>\n",
       "        <td>feat$cat_ags_cp_w$msgs$message_id$1gra</td>\n",
       "    </tr>\n",
       "    <tr>\n",
       "        <td>feat$cat_ags_cp_w$msgs$user_id$1gra</td>\n",
       "    </tr>\n",
       "    <tr>\n",
       "        <td>feat$cat_ags_cp_w$threadheads$message_id$1gra</td>\n",
       "    </tr>\n",
       "    <tr>\n",
       "        <td>feat$cat_ags_cp_w$threadheads$thread_id$1gra</td>\n",
       "    </tr>\n",
       "    <tr>\n",
       "        <td>feat$meta_1gram$msgs$message_id$16to16</td>\n",
       "    </tr>\n",
       "    <tr>\n",
       "        <td>feat$meta_1gram$msgs$thread_id$16to16</td>\n",
       "    </tr>\n",
       "    <tr>\n",
       "        <td>feat$meta_1gram$msgs$user_id$16to16</td>\n",
       "    </tr>\n",
       "    <tr>\n",
       "        <td>feat$meta_1gram$threadheads$thread_id$16to16</td>\n",
       "    </tr>\n",
       "    <tr>\n",
       "        <td>feat$meta_2gram$msgs$thread_id$16to16</td>\n",
       "    </tr>\n",
       "    <tr>\n",
       "        <td>feat$meta_2gram$msgs$user_id$16to16</td>\n",
       "    </tr>\n",
       "    <tr>\n",
       "        <td>feat$meta_2gram$threadheads$thread_id$16to16</td>\n",
       "    </tr>\n",
       "    <tr>\n",
       "        <td>feat$meta_3gram$msgs$thread_id$16to16</td>\n",
       "    </tr>\n",
       "    <tr>\n",
       "        <td>feat$meta_3gram$msgs$user_id$16to16</td>\n",
       "    </tr>\n",
       "    <tr>\n",
       "        <td>feat$meta_3gram$threadheads$thread_id$16to16</td>\n",
       "    </tr>\n",
       "    <tr>\n",
       "        <td>feat_pruned$1gram$msgs$message_id$16to16</td>\n",
       "    </tr>\n",
       "    <tr>\n",
       "        <td>msgs</td>\n",
       "    </tr>\n",
       "    <tr>\n",
       "        <td>msgs_lda$topics_ags</td>\n",
       "    </tr>\n",
       "    <tr>\n",
       "        <td>threadheads</td>\n",
       "    </tr>\n",
       "    <tr>\n",
       "        <td>threads</td>\n",
       "    </tr>\n",
       "    <tr>\n",
       "        <td>users</td>\n",
       "    </tr>\n",
       "</table>"
      ],
      "text/plain": [
       "[('ags_cp',),\n",
       " ('ags_freq',),\n",
       " ('feat$1gram$msgs$message_id$16to16',),\n",
       " ('feat$1gram$msgs$thread_id$16to16',),\n",
       " ('feat$1gram$msgs$user_id$16to16',),\n",
       " ('feat$1gram$msgs$user_id$16to16$0_01',),\n",
       " ('feat$1gram$msgs$user_id$16to16$0_02',),\n",
       " ('feat$1gram$msgs$user_id$16to16$0_03',),\n",
       " ('feat$1gram$msgs$user_id$16to16$0_05',),\n",
       " ('feat$1gram$msgs$user_id$16to16$0_1',),\n",
       " ('feat$1gram$threadheads$thread_id$16to16',),\n",
       " ('feat$1gram$threadheads$thread_id$16to16$0_0',),\n",
       " ('feat$1gram$threadheads$thread_id$16to16$0_01',),\n",
       " ('feat$1gram$threadheads$thread_id$16to16$0_02',),\n",
       " ('feat$1to2gram$msgs$thread_id$16to16',),\n",
       " ('feat$1to2gram$msgs$user_id$16to16',),\n",
       " ('feat$1to2gram$msgs$user_id$16to16$0_02',),\n",
       " ('feat$1to2gram$msgs$user_id$16to16$0_02$pmi5_0',),\n",
       " ('feat$1to2gram$msgs$user_id$16to16$0_02$pmi6_0',),\n",
       " ('feat$1to3gram$msgs$thread_id$16to16',),\n",
       " ('feat$1to3gram$msgs$thread_id$16to16$0_02',),\n",
       " ('feat$1to3gram$msgs$thread_id$16to16$0_02$pmi5_0',),\n",
       " ('feat$1to3gram$msgs$user_id$16to16',),\n",
       " ('feat$1to3gram$msgs$user_id$16to16$0_02',),\n",
       " ('feat$1to3gram$msgs$user_id$16to16$0_02$pmi4_0',),\n",
       " ('feat$1to3gram$msgs$user_id$16to16$0_02$pmi6_0',),\n",
       " ('feat$1to3gram$threadheads$thread_id$16to16',),\n",
       " ('feat$1to3gram$threadheads$thread_id$16to16$0_02',),\n",
       " ('feat$1to3gram$threadheads$thread_id$16to16$0_02$pmi6_0',),\n",
       " ('feat$2gram$msgs$thread_id$16to16',),\n",
       " ('feat$2gram$msgs$user_id$16to16',),\n",
       " ('feat$2gram$msgs$user_id$16to16$0_02',),\n",
       " ('feat$2gram$msgs$user_id$16to16$0_02$pmi3_0',),\n",
       " ('feat$2gram$msgs$user_id$16to16$0_02$pmi4_0',),\n",
       " ('feat$2gram$msgs$user_id$16to16$0_02$pmi5_0',),\n",
       " ('feat$2gram$msgs$user_id$16to16$0_02$pmi6_0',),\n",
       " ('feat$2gram$threadheads$thread_id$16to16',),\n",
       " ('feat$2gram$threadheads$thread_id$16to16$0_02',),\n",
       " ('feat$2gram$threadheads$thread_id$16to16$0_02$pmi4_0',),\n",
       " ('feat$2gram$threadheads$thread_id$16to16$0_02$pmi5_0',),\n",
       " ('feat$2gram$threadheads$thread_id$16to16$0_02$pmi6_0',),\n",
       " ('feat$2gram$threadheads$thread_id$16to16$pmi4_0',),\n",
       " ('feat$3gram$msgs$thread_id$16to16',),\n",
       " ('feat$3gram$msgs$user_id$16to16',),\n",
       " ('feat$3gram$msgs$user_id$16to16$0_02',),\n",
       " ('feat$3gram$msgs$user_id$16to16$0_02$pmi4_0',),\n",
       " ('feat$3gram$msgs$user_id$16to16$0_02$pmi5_0',),\n",
       " ('feat$3gram$msgs$user_id$16to16$0_02$pmi6_0',),\n",
       " ('feat$3gram$threadheads$thread_id$16to16',),\n",
       " ('feat$3gram$threadheads$thread_id$16to16$0_02',),\n",
       " ('feat$3gram$threadheads$thread_id$16to16$0_02$pmi4_0',),\n",
       " ('feat$3gram$threadheads$thread_id$16to16$0_02$pmi5_0',),\n",
       " ('feat$3gram$threadheads$thread_id$16to16$0_02$pmi6_0',),\n",
       " ('feat$3gram$threadheads$thread_id$16to16$pmi4_0',),\n",
       " ('feat$cat_LIWC2015$msgs$user_id$1gra',),\n",
       " ('feat$cat_LIWC2015$threadheads$thread_id$1gra',),\n",
       " ('feat$cat_ags_cp_w$msgs$message_id$1gra',),\n",
       " ('feat$cat_ags_cp_w$msgs$user_id$1gra',),\n",
       " ('feat$cat_ags_cp_w$threadheads$message_id$1gra',),\n",
       " ('feat$cat_ags_cp_w$threadheads$thread_id$1gra',),\n",
       " ('feat$meta_1gram$msgs$message_id$16to16',),\n",
       " ('feat$meta_1gram$msgs$thread_id$16to16',),\n",
       " ('feat$meta_1gram$msgs$user_id$16to16',),\n",
       " ('feat$meta_1gram$threadheads$thread_id$16to16',),\n",
       " ('feat$meta_2gram$msgs$thread_id$16to16',),\n",
       " ('feat$meta_2gram$msgs$user_id$16to16',),\n",
       " ('feat$meta_2gram$threadheads$thread_id$16to16',),\n",
       " ('feat$meta_3gram$msgs$thread_id$16to16',),\n",
       " ('feat$meta_3gram$msgs$user_id$16to16',),\n",
       " ('feat$meta_3gram$threadheads$thread_id$16to16',),\n",
       " ('feat_pruned$1gram$msgs$message_id$16to16',),\n",
       " ('msgs',),\n",
       " ('msgs_lda$topics_ags',),\n",
       " ('threadheads',),\n",
       " ('threads',),\n",
       " ('users',)]"
      ]
     },
     "execution_count": 3,
     "metadata": {},
     "output_type": "execute_result"
    }
   ],
   "source": [
    "%%sql \n",
    "use {database}; \n",
    "show tables; "
   ]
  },
  {
   "cell_type": "markdown",
   "metadata": {},
   "source": [
    "Most of the sql is run directly in HeidiSql but I save the commands here for documentation purposes. For some reason sql that runs on HeidiSql doesn't always run in Jupyter for some reason"
   ]
  },
  {
   "cell_type": "code",
   "execution_count": 14,
   "metadata": {},
   "outputs": [
    {
     "ename": "SyntaxError",
     "evalue": "invalid syntax (<ipython-input-14-95279b999f28>, line 3)",
     "output_type": "error",
     "traceback": [
      "\u001b[0;36m  File \u001b[0;32m\"<ipython-input-14-95279b999f28>\"\u001b[0;36m, line \u001b[0;32m3\u001b[0m\n\u001b[0;31m    SELECT * FROM threads, (select thread_id, MAX(NUMBER)-1 AS reply_num from msgs\u001b[0m\n\u001b[0m                        ^\u001b[0m\n\u001b[0;31mSyntaxError\u001b[0m\u001b[0;31m:\u001b[0m invalid syntax\n"
     ]
    }
   ],
   "source": [
    "#let's make a number of replies column \n",
    "%%sql \n",
    "drop table threads if exists; \n",
    "create table threads as SELECT sywang.ags_threadhtml.thread_id, title, reply_num FROM sywang.ags_threadhtml, (select thread_id, MAX(NUMBER)-1 AS reply_num from msgs \n",
    "GROUP BY thread_id) replynumtable\n",
    "WHERE sywang.ags_threadhtml.thread_id = replynumtable.thread_id; "
   ]
  },
  {
   "cell_type": "markdown",
   "metadata": {},
   "source": [
    "Investigate users table. \n",
    "Turns out there are only 14 bios. \n",
    "But everyone has a location. "
   ]
  },
  {
   "cell_type": "code",
   "execution_count": 21,
   "metadata": {},
   "outputs": [
    {
     "name": "stdout",
     "output_type": "stream",
     "text": [
      " * mysql://sywang@localhost/?charset=utf8mb4\n",
      "1 rows affected.\n"
     ]
    },
    {
     "data": {
      "text/html": [
       "<table>\n",
       "    <tr>\n",
       "        <th>count(*)</th>\n",
       "    </tr>\n",
       "    <tr>\n",
       "        <td>398</td>\n",
       "    </tr>\n",
       "</table>"
      ],
      "text/plain": [
       "[(398,)]"
      ]
     },
     "execution_count": 21,
     "metadata": {},
     "output_type": "execute_result"
    }
   ],
   "source": [
    "%%sql \n",
    "select count(*) from users; "
   ]
  },
  {
   "cell_type": "code",
   "execution_count": 20,
   "metadata": {},
   "outputs": [
    {
     "name": "stdout",
     "output_type": "stream",
     "text": [
      " * mysql://sywang@localhost/?charset=utf8mb4\n",
      "5 rows affected.\n",
      "1 rows affected.\n"
     ]
    },
    {
     "data": {
      "text/html": [
       "<table>\n",
       "    <tr>\n",
       "        <th>count(bio)</th>\n",
       "    </tr>\n",
       "    <tr>\n",
       "        <td>14</td>\n",
       "    </tr>\n",
       "</table>"
      ],
      "text/plain": [
       "[(14,)]"
      ]
     },
     "execution_count": 20,
     "metadata": {},
     "output_type": "execute_result"
    }
   ],
   "source": [
    "%%sql \n",
    "select bio from users where bio not in (\"None\") limit 5; \n",
    "select count(bio) from users where bio not in (\"None\"); "
   ]
  },
  {
   "cell_type": "code",
   "execution_count": 22,
   "metadata": {},
   "outputs": [
    {
     "name": "stdout",
     "output_type": "stream",
     "text": [
      " * mysql://sywang@localhost/?charset=utf8mb4\n",
      "1 rows affected.\n"
     ]
    },
    {
     "data": {
      "text/html": [
       "<table>\n",
       "    <tr>\n",
       "        <th>count(location)</th>\n",
       "    </tr>\n",
       "    <tr>\n",
       "        <td>398</td>\n",
       "    </tr>\n",
       "</table>"
      ],
      "text/plain": [
       "[(398,)]"
      ]
     },
     "execution_count": 22,
     "metadata": {},
     "output_type": "execute_result"
    }
   ],
   "source": [
    "%%sql\n",
    "select count(location) from users where location not in (\"None\"); "
   ]
  },
  {
   "cell_type": "code",
   "execution_count": 27,
   "metadata": {},
   "outputs": [
    {
     "name": "stdout",
     "output_type": "stream",
     "text": [
      " * mysql://sywang@localhost/?charset=utf8mb4\n",
      "10 rows affected.\n"
     ]
    },
    {
     "data": {
      "text/html": [
       "<table>\n",
       "    <tr>\n",
       "        <th>substr(location, -2)</th>\n",
       "    </tr>\n",
       "    <tr>\n",
       "        <td>IN</td>\n",
       "    </tr>\n",
       "    <tr>\n",
       "        <td>WI</td>\n",
       "    </tr>\n",
       "    <tr>\n",
       "        <td>NY</td>\n",
       "    </tr>\n",
       "    <tr>\n",
       "        <td>CT</td>\n",
       "    </tr>\n",
       "    <tr>\n",
       "        <td>MA</td>\n",
       "    </tr>\n",
       "    <tr>\n",
       "        <td>AZ</td>\n",
       "    </tr>\n",
       "    <tr>\n",
       "        <td>NY</td>\n",
       "    </tr>\n",
       "    <tr>\n",
       "        <td>NY</td>\n",
       "    </tr>\n",
       "    <tr>\n",
       "        <td>BC</td>\n",
       "    </tr>\n",
       "    <tr>\n",
       "        <td>MD</td>\n",
       "    </tr>\n",
       "</table>"
      ],
      "text/plain": [
       "[('IN',),\n",
       " ('WI',),\n",
       " ('NY',),\n",
       " ('CT',),\n",
       " ('MA',),\n",
       " ('AZ',),\n",
       " ('NY',),\n",
       " ('NY',),\n",
       " ('BC',),\n",
       " ('MD',)]"
      ]
     },
     "execution_count": 27,
     "metadata": {},
     "output_type": "execute_result"
    }
   ],
   "source": [
    "%%sql \n",
    "update users \n",
    "set state = substr(location, -2);  "
   ]
  },
  {
   "cell_type": "code",
   "execution_count": 28,
   "metadata": {},
   "outputs": [
    {
     "name": "stdout",
     "output_type": "stream",
     "text": [
      " * mysql://sywang@localhost/?charset=utf8mb4\n",
      "10 rows affected.\n"
     ]
    },
    {
     "data": {
      "text/html": [
       "<table>\n",
       "    <tr>\n",
       "        <th>user_id</th>\n",
       "        <th>user</th>\n",
       "        <th>profileurl</th>\n",
       "        <th>location</th>\n",
       "        <th>bio</th>\n",
       "        <th>marker</th>\n",
       "        <th>crawled</th>\n",
       "        <th>state</th>\n",
       "    </tr>\n",
       "    <tr>\n",
       "        <td>1</td>\n",
       "        <td>Yara Catoira-Boyle</td>\n",
       "        <td>https://www.americanglaucomasociety.net/network/members/profile?UserKey=4ca20dc8-8b67-4ed1-a160-8d0efb58c82a</td>\n",
       "        <td>Indianapolis, <br>IN</td>\n",
       "        <td>None</td>\n",
       "        <td>0</td>\n",
       "        <td>1</td>\n",
       "        <td>IN</td>\n",
       "    </tr>\n",
       "    <tr>\n",
       "        <td>2</td>\n",
       "        <td>Jeffrey Kalenak</td>\n",
       "        <td>https://www.americanglaucomasociety.net/network/members/profile?UserKey=26410406-88f4-440c-bf48-6f2fdf486696</td>\n",
       "        <td>Milwaukee, <br>WI</td>\n",
       "        <td>None</td>\n",
       "        <td>0</td>\n",
       "        <td>1</td>\n",
       "        <td>WI</td>\n",
       "    </tr>\n",
       "    <tr>\n",
       "        <td>3</td>\n",
       "        <td>Nalini Madiwale</td>\n",
       "        <td>https://www.americanglaucomasociety.net/network/members/profile?UserKey=0e40a9d9-4697-45a0-a5a0-8306f5719a5a</td>\n",
       "        <td>Schenectady, <br>NY</td>\n",
       "        <td>None</td>\n",
       "        <td>0</td>\n",
       "        <td>1</td>\n",
       "        <td>NY</td>\n",
       "    </tr>\n",
       "    <tr>\n",
       "        <td>4</td>\n",
       "        <td>James Murphy</td>\n",
       "        <td>https://www.americanglaucomasociety.net/network/members/profile?UserKey=d1da4d47-faba-4114-85d5-43f604aa32c2</td>\n",
       "        <td>Stamford, <br>CT</td>\n",
       "        <td>Glaucoma-specialist in Connecticut, USA, performing all traditional and MIGS glaucoma surgeries, femto- and Premium IOL/refractive cataracts.Â  Big outdoorsman on the weekends!</td>\n",
       "        <td>0</td>\n",
       "        <td>1</td>\n",
       "        <td>CT</td>\n",
       "    </tr>\n",
       "    <tr>\n",
       "        <td>5</td>\n",
       "        <td>Peter Zacharia</td>\n",
       "        <td>https://www.americanglaucomasociety.net/network/members/profile?UserKey=fc2cadce-bf75-4edc-810f-c2fea633dcb6</td>\n",
       "        <td>Worcester, <br>MA</td>\n",
       "        <td>None</td>\n",
       "        <td>0</td>\n",
       "        <td>1</td>\n",
       "        <td>MA</td>\n",
       "    </tr>\n",
       "    <tr>\n",
       "        <td>6</td>\n",
       "        <td>George Reiss</td>\n",
       "        <td>https://www.americanglaucomasociety.net/network/members/profile?UserKey=fe774e89-998b-421b-992f-34be2a719397</td>\n",
       "        <td>Glendale, <br>AZ</td>\n",
       "        <td>None</td>\n",
       "        <td>0</td>\n",
       "        <td>1</td>\n",
       "        <td>AZ</td>\n",
       "    </tr>\n",
       "    <tr>\n",
       "        <td>7</td>\n",
       "        <td>Asher Weiner</td>\n",
       "        <td>https://www.americanglaucomasociety.net/network/members/profile?UserKey=dadb71fe-1c33-46cf-a824-5dac9c095f52</td>\n",
       "        <td>Williamsville, <br>NY</td>\n",
       "        <td>None</td>\n",
       "        <td>0</td>\n",
       "        <td>1</td>\n",
       "        <td>NY</td>\n",
       "    </tr>\n",
       "    <tr>\n",
       "        <td>8</td>\n",
       "        <td>Daniel Laroche</td>\n",
       "        <td>https://www.americanglaucomasociety.net/network/members/profile?UserKey=ebe86aa5-e20a-4692-b524-589e023ba0e7</td>\n",
       "        <td>New York, <br>NY</td>\n",
       "        <td>None</td>\n",
       "        <td>0</td>\n",
       "        <td>1</td>\n",
       "        <td>NY</td>\n",
       "    </tr>\n",
       "    <tr>\n",
       "        <td>9</td>\n",
       "        <td>Robert Schertzer</td>\n",
       "        <td>https://www.americanglaucomasociety.net/network/members/profile?UserKey=26866cd9-3bd0-416a-9007-27fed9c6da49</td>\n",
       "        <td>Vancouver, <br>BC</td>\n",
       "        <td>None</td>\n",
       "        <td>0</td>\n",
       "        <td>1</td>\n",
       "        <td>BC</td>\n",
       "    </tr>\n",
       "    <tr>\n",
       "        <td>10</td>\n",
       "        <td>Mona Kaleem</td>\n",
       "        <td>https://www.americanglaucomasociety.net/network/members/profile?UserKey=ab1606c3-0c6c-42f4-8969-ccf7541dfe8b</td>\n",
       "        <td>Bethesda, <br>MD</td>\n",
       "        <td>None</td>\n",
       "        <td>0</td>\n",
       "        <td>1</td>\n",
       "        <td>MD</td>\n",
       "    </tr>\n",
       "</table>"
      ],
      "text/plain": [
       "[(1, 'Yara Catoira-Boyle', 'https://www.americanglaucomasociety.net/network/members/profile?UserKey=4ca20dc8-8b67-4ed1-a160-8d0efb58c82a', 'Indianapolis, \\nIN', 'None', 0, 1, 'IN'),\n",
       " (2, 'Jeffrey Kalenak', 'https://www.americanglaucomasociety.net/network/members/profile?UserKey=26410406-88f4-440c-bf48-6f2fdf486696', 'Milwaukee, \\nWI', 'None', 0, 1, 'WI'),\n",
       " (3, 'Nalini Madiwale', 'https://www.americanglaucomasociety.net/network/members/profile?UserKey=0e40a9d9-4697-45a0-a5a0-8306f5719a5a', 'Schenectady, \\nNY', 'None', 0, 1, 'NY'),\n",
       " (4, 'James Murphy', 'https://www.americanglaucomasociety.net/network/members/profile?UserKey=d1da4d47-faba-4114-85d5-43f604aa32c2', 'Stamford, \\nCT', 'Glaucoma-specialist in Connecticut, USA, performing all traditional and MIGS glaucoma surgeries, femto- and Premium IOL/refractive cataracts.Â\\xa0 Big outdoorsman on the weekends!', 0, 1, 'CT'),\n",
       " (5, 'Peter Zacharia', 'https://www.americanglaucomasociety.net/network/members/profile?UserKey=fc2cadce-bf75-4edc-810f-c2fea633dcb6', 'Worcester, \\nMA', 'None', 0, 1, 'MA'),\n",
       " (6, 'George Reiss', 'https://www.americanglaucomasociety.net/network/members/profile?UserKey=fe774e89-998b-421b-992f-34be2a719397', 'Glendale, \\nAZ', 'None', 0, 1, 'AZ'),\n",
       " (7, 'Asher Weiner', 'https://www.americanglaucomasociety.net/network/members/profile?UserKey=dadb71fe-1c33-46cf-a824-5dac9c095f52', 'Williamsville, \\nNY', 'None', 0, 1, 'NY'),\n",
       " (8, 'Daniel Laroche', 'https://www.americanglaucomasociety.net/network/members/profile?UserKey=ebe86aa5-e20a-4692-b524-589e023ba0e7', 'New York, \\nNY', 'None', 0, 1, 'NY'),\n",
       " (9, 'Robert Schertzer', 'https://www.americanglaucomasociety.net/network/members/profile?UserKey=26866cd9-3bd0-416a-9007-27fed9c6da49', 'Vancouver, \\nBC', 'None', 0, 1, 'BC'),\n",
       " (10, 'Mona Kaleem', 'https://www.americanglaucomasociety.net/network/members/profile?UserKey=ab1606c3-0c6c-42f4-8969-ccf7541dfe8b', 'Bethesda, \\nMD', 'None', 0, 1, 'MD')]"
      ]
     },
     "execution_count": 28,
     "metadata": {},
     "output_type": "execute_result"
    }
   ],
   "source": [
    "%sql select * from users limit 10;"
   ]
  },
  {
   "cell_type": "markdown",
   "metadata": {},
   "source": [
    "Take care of Canadian provinces - set them to \"INTL\" \n",
    "\n",
    "other countries manually reviewed and set to \"INTL\". Of note we will also count VI (virgin islands) and AE (overseas military) as international\n",
    "\n",
    "gender also manually reviewed and set to 1 if female, 0 otherwise "
   ]
  },
  {
   "cell_type": "code",
   "execution_count": null,
   "metadata": {},
   "outputs": [],
   "source": [
    "%%sql \n",
    "UPDATE users \n",
    "SET state = \"INTL\" \n",
    "WHERE state IN (\"ON\", \"BC\", \"AB\", \"MB\", \"NB\", \"NL\", \"NT\", \"NS\", \"NU\", \"PE\", \"QC\", \"SK\", \"YT\", \"VI\", \"AE\"); "
   ]
  },
  {
   "cell_type": "code",
   "execution_count": null,
   "metadata": {},
   "outputs": [],
   "source": [
    "%%sql \n",
    "UPDATE users \n",
    "SET division = \"NewEngland\"\n",
    "WHERE state IN (\"CT\", \"MA\", \"ME\", \"NH\", \"RI\", \"VT\"); \n",
    "UPDATE users \n",
    "SET division = \"MidAtlantic\"\n",
    "WHERE state IN (\"NJ\", \"NY\", \"PA\"); \n",
    "UPDATE users \n",
    "SET division = \"MidwestNorth\"\n",
    "WHERE state IN (\"IL\", \"IN\", \"MI\", \"OH\", \"WI\"); \n",
    "UPDATE users \n",
    "SET division = \"MidwestWest\"\n",
    "WHERE state IN (\"IA\", \"KS\", \"MN\", \"MO\", \"NE\", \"ND\", \"SD\"); \n",
    "UPDATE users \n",
    "SET division = \"SouthAtlantic\"\n",
    "WHERE state IN (\"DE\", \"DC\", \"FL\", \"GA\", \"MD\", \"NC\", \"SC\", \"VA\", \"WV\"); \n",
    "UPDATE users \n",
    "SET division = \"SouthEast\"\n",
    "WHERE state IN (\"AL\", \"KY\", \"MS\", \"TN\"); \n",
    "UPDATE users \n",
    "SET division = \"SouthWest\"\n",
    "WHERE state IN (\"AR\", \"LA\", \"OK\", 'TX'); \n",
    "UPDATE users \n",
    "SET division = \"Mountain\"\n",
    "WHERE state IN (\"AZ\", \"CO\", \"ID\", \"MT\", \"NM\", \"NV\", \"UT\", \"WY\"); \n",
    "UPDATE users\n",
    "SET division = \"Pacific\"\n",
    "WHERE state IN (\"CA\", \"AL\", \"HI\", \"OR\", \"WA\"); \n",
    "UPDATE division\n",
    "SET region = \"International\"\n",
    "WHERE state IN ('INTL'); "
   ]
  },
  {
   "cell_type": "code",
   "execution_count": null,
   "metadata": {},
   "outputs": [],
   "source": [
    "%%sql \n",
    "UPDATE users \n",
    "SET region = \"Northeast\"\n",
    "WHERE division IN (\"NewEngland\", \"MidAtlantic\"); \n",
    "UPDATE users \n",
    "SET region = \"Midwest\"\n",
    "WHERE division IN (\"MidwestNorth\", \"MidwestWest\"); \n",
    "UPDATE users \n",
    "SET region = \"South\"\n",
    "WHERE division IN (\"SouthAtlantic\", \"SouthEast\", \"SouthWest\"); \n",
    "UPDATE users \n",
    "SET region = \"West\"\n",
    "WHERE division IN (\"Mountain\", \"Pacific\"); \n",
    "UPDATE users \n",
    "SET division = \"INTL\"\n",
    "WHERE division IN (\"INTL\"); "
   ]
  },
  {
   "cell_type": "markdown",
   "metadata": {},
   "source": [
    "Let's move the user_id into the messages table so we don't have to join across username, we can join and index across a numeric user_id variable instead"
   ]
  },
  {
   "cell_type": "code",
   "execution_count": null,
   "metadata": {},
   "outputs": [],
   "source": [
    "UPDATE msgs \n",
    "SET user_id = (SELECT users.user_id FROM users WHERE msgs.user = users.user); "
   ]
  },
  {
   "cell_type": "markdown",
   "metadata": {},
   "source": [
    "Create a new table that is only the titles and first message of the thread, called threadheads. \n",
    "\n",
    "Note that this creates a thread_id variable which matches threads.thread_id, and also creates a copy of this variable called message_id, because DLATK likes there to be a message_id key in this sort of table "
   ]
  },
  {
   "cell_type": "code",
   "execution_count": null,
   "metadata": {},
   "outputs": [],
   "source": [
    "%%sql \n",
    "CREATE TABLE threadheads AS \n",
    "(SELECT threads.thread_id, msgs.thread_id as message_id, CONCAT(threads.title, \" \", msgs.message) AS message \n",
    " FROM threads, msgs WHERE threads.thread_id = msgs.thread_id AND msgs.number=1); "
   ]
  }
 ],
 "metadata": {
  "kernelspec": {
   "display_name": "Python 3",
   "language": "python",
   "name": "python3"
  },
  "language_info": {
   "codemirror_mode": {
    "name": "ipython",
    "version": 3
   },
   "file_extension": ".py",
   "mimetype": "text/x-python",
   "name": "python",
   "nbconvert_exporter": "python",
   "pygments_lexer": "ipython3",
   "version": "3.7.6"
  }
 },
 "nbformat": 4,
 "nbformat_minor": 4
}
